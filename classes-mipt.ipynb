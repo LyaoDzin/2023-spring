{
 "cells": [
  {
   "cell_type": "raw",
   "id": "3b14bbb9",
   "metadata": {},
   "source": [
    " Ответы на вопросы:\n",
    " 1) В чем разница между объектом class и объектом instance? -- Объект class имеет некоторые методы \n",
    "  и, обращаясь к class, мы можем создавать его экзампляры (instance), объекты класса которым свойственны \n",
    "  (наследуются) методы класса\n",
    "\n",
    "2) Что означает аргумент self в методах класса? -- Это тот экзампляр класса для которого вызывается метод\n",
    "3) Как указать superclass для данного class? --  class Class(Superclass) \n",
    "\n",
    "class Superclass():  # создание superclass\n",
    "    def method_1 (self):\n",
    "    def method_2 (self):\n",
    "    ...\n",
    "class Class(Superclass):  #непосредственно указание superclass для данного class\n",
    "    def method_1_1 (self)\n",
    "    ...\n",
    "    \n",
    " 4) Зачем используется перегрузка операторов? -- для их кастомизации, чтоб не прописывать каждый раз \n",
    "для оператора дополнительную функцию можно переписать оператор\n",
    "    "
   ]
  },
  {
   "cell_type": "code",
   "execution_count": 21,
   "id": "30372cf4",
   "metadata": {},
   "outputs": [],
   "source": [
    " # 1\n",
    "class Shape():\n",
    "    def setdata(self, height, width):    \n",
    "        self.height = height\n",
    "        self.width = width\n",
    "        \n",
    "    def display(self):\n",
    "        print(\"ширина: \", self.height, \"высота: \", self.width ) \n",
    "   \n",
    " # у класса Shape наследуются подклассы Triangle и Rectangle, в которых реализуются методы по нахождению площади    \n",
    "class Triangle (Shape): \n",
    "    def area (self):\n",
    "        print(0.5*self.width*self.height)\n",
    "        \n",
    "class Rectangle (Shape):\n",
    "    def area (self):\n",
    "        print(self.width*self.height)"
   ]
  },
  {
   "cell_type": "code",
   "execution_count": 25,
   "id": "3db22a7a",
   "metadata": {},
   "outputs": [
    {
     "name": "stdout",
     "output_type": "stream",
     "text": [
      "21\n",
      "12.0\n"
     ]
    }
   ],
   "source": [
    "a = Rectangle()\n",
    "a.setdata (3, 7)\n",
    "a.area()\n",
    "\n",
    "b = Triangle()\n",
    "b.setdata(4, 6)\n",
    "b.area()"
   ]
  },
  {
   "cell_type": "code",
   "execution_count": 54,
   "id": "4ad04d50",
   "metadata": {},
   "outputs": [],
   "source": [
    " #2 надеюсь я правильно поняла задание)\n",
    "class Mother:\n",
    "    def __init__(self, value):\n",
    "        self.data = value\n",
    "    def __str__(self):\n",
    "        return '[Mother: %s]' %self.data\n",
    "class Daughter (Mother):\n",
    "    def __str__(self):\n",
    "        return '[Daughter: %s] ' %self.data\n",
    "    \n",
    "    "
   ]
  },
  {
   "cell_type": "code",
   "execution_count": 55,
   "id": "02644d96",
   "metadata": {},
   "outputs": [
    {
     "name": "stdout",
     "output_type": "stream",
     "text": [
      "[Mother: 3]\n",
      "[Daughter: 5] \n"
     ]
    }
   ],
   "source": [
    "x = Mother (3)\n",
    "y = Daughter (5)\n",
    "print(x)\n",
    "print(y)"
   ]
  },
  {
   "cell_type": "code",
   "execution_count": 65,
   "id": "04d7a454",
   "metadata": {},
   "outputs": [],
   "source": [
    "# 3\n",
    "class Animal():\n",
    "    def __init__(self, Name, Age):\n",
    "        self.Name = Name\n",
    "        self.Age = Age\n",
    "    \n",
    "    \n",
    "class Zebra(Animal):\n",
    "    def __repr__(self):\n",
    "        return 'Zebra, name: %s, age: %s' % (self.Name, self.Age)\n",
    "class Dolphin(Animal):\n",
    "    def __repr__(self):\n",
    "        return 'Dolphin, name: %s, age: %s' % (self.Name, self.Age)\n",
    "    "
   ]
  },
  {
   "cell_type": "code",
   "execution_count": 66,
   "id": "af3241e4",
   "metadata": {},
   "outputs": [],
   "source": [
    "Cara = Dolphin ('Cara', 5)\n",
    "Dave = Dolphin ('Dave', 6)\n",
    "Sansa = Zebra ('Sansa', 3)"
   ]
  },
  {
   "cell_type": "code",
   "execution_count": 67,
   "id": "66e7529b",
   "metadata": {},
   "outputs": [
    {
     "name": "stdout",
     "output_type": "stream",
     "text": [
      "Dolphin, name: Cara, age: 5\n"
     ]
    }
   ],
   "source": [
    "print(Cara)"
   ]
  },
  {
   "cell_type": "code",
   "execution_count": 69,
   "id": "6a372bed",
   "metadata": {},
   "outputs": [
    {
     "name": "stdout",
     "output_type": "stream",
     "text": [
      "Zebra, name: Sansa, age: 3\n"
     ]
    }
   ],
   "source": [
    "print(Sansa)"
   ]
  },
  {
   "cell_type": "code",
   "execution_count": null,
   "id": "39f82ba4",
   "metadata": {},
   "outputs": [],
   "source": []
  }
 ],
 "metadata": {
  "kernelspec": {
   "display_name": "Python 3 (ipykernel)",
   "language": "python",
   "name": "python3"
  },
  "language_info": {
   "codemirror_mode": {
    "name": "ipython",
    "version": 3
   },
   "file_extension": ".py",
   "mimetype": "text/x-python",
   "name": "python",
   "nbconvert_exporter": "python",
   "pygments_lexer": "ipython3",
   "version": "3.10.5"
  }
 },
 "nbformat": 4,
 "nbformat_minor": 5
}
